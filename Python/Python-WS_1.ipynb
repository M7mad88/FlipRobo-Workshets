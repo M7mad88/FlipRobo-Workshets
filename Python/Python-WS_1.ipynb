{
 "cells": [
  {
   "cell_type": "code",
   "execution_count": 33,
   "id": "d1001840",
   "metadata": {},
   "outputs": [],
   "source": [
    "import math\n",
    "import numpy as np"
   ]
  },
  {
   "cell_type": "markdown",
   "id": "7a6b2ee8",
   "metadata": {},
   "source": [
    "### Worksheet_1"
   ]
  },
  {
   "cell_type": "code",
   "execution_count": 81,
   "id": "5024c5bb",
   "metadata": {},
   "outputs": [],
   "source": [
    "# 11) Write a python program to find the factorial of a number\n",
    "\n",
    "def factorial(n):\n",
    "    result=1\n",
    "    if n==0 or  n==1:\n",
    "        return 1\n",
    "    else:\n",
    "        for i in range(2,n+1):\n",
    "            result*=i\n",
    "        return result"
   ]
  },
  {
   "cell_type": "code",
   "execution_count": 84,
   "id": "1cc45232",
   "metadata": {},
   "outputs": [
    {
     "data": {
      "text/plain": [
       "1"
      ]
     },
     "execution_count": 84,
     "metadata": {},
     "output_type": "execute_result"
    }
   ],
   "source": [
    "factorial(1)"
   ]
  },
  {
   "cell_type": "code",
   "execution_count": 93,
   "id": "33cd2d1c",
   "metadata": {},
   "outputs": [
    {
     "data": {
      "text/plain": [
       "120"
      ]
     },
     "execution_count": 93,
     "metadata": {},
     "output_type": "execute_result"
    }
   ],
   "source": [
    "factorial(5)"
   ]
  },
  {
   "cell_type": "markdown",
   "id": "81c39847",
   "metadata": {},
   "source": [
    "------------------------------------------------------------------------------------------------------------------------------"
   ]
  },
  {
   "cell_type": "code",
   "execution_count": 85,
   "id": "0b70c9a5",
   "metadata": {},
   "outputs": [],
   "source": [
    "# 12) write a python program to find whether a number is prime or composite\n",
    "\n",
    "def prime(n):\n",
    "    if n==0 or  n==1:\n",
    "        return False\n",
    "    elif n%2!=0:\n",
    "        return True\n",
    "    else:\n",
    "        return False\n",
    "    "
   ]
  },
  {
   "cell_type": "code",
   "execution_count": 92,
   "id": "fe379b73",
   "metadata": {},
   "outputs": [
    {
     "data": {
      "text/plain": [
       "False"
      ]
     },
     "execution_count": 92,
     "metadata": {},
     "output_type": "execute_result"
    }
   ],
   "source": [
    "prime(1)"
   ]
  },
  {
   "cell_type": "code",
   "execution_count": 94,
   "id": "f059afea",
   "metadata": {},
   "outputs": [
    {
     "data": {
      "text/plain": [
       "False"
      ]
     },
     "execution_count": 94,
     "metadata": {},
     "output_type": "execute_result"
    }
   ],
   "source": [
    "prime(4)"
   ]
  },
  {
   "cell_type": "code",
   "execution_count": 95,
   "id": "cec3f1b6",
   "metadata": {},
   "outputs": [
    {
     "data": {
      "text/plain": [
       "True"
      ]
     },
     "execution_count": 95,
     "metadata": {},
     "output_type": "execute_result"
    }
   ],
   "source": [
    "prime(13)"
   ]
  },
  {
   "cell_type": "markdown",
   "id": "b65926ad",
   "metadata": {},
   "source": [
    "-------------------------------------------------------------------------------------------------------------------------------"
   ]
  },
  {
   "cell_type": "code",
   "execution_count": 96,
   "id": "3db275f1",
   "metadata": {},
   "outputs": [],
   "source": [
    "# 13) write a python program to find whether a given string is palindrome\n",
    "\n",
    "def palindrome(s):\n",
    "    return s==s[::-1]"
   ]
  },
  {
   "cell_type": "code",
   "execution_count": 97,
   "id": "baef4117",
   "metadata": {},
   "outputs": [
    {
     "data": {
      "text/plain": [
       "True"
      ]
     },
     "execution_count": 97,
     "metadata": {},
     "output_type": "execute_result"
    }
   ],
   "source": [
    "palindrome('radar')"
   ]
  },
  {
   "cell_type": "markdown",
   "id": "0da9b833",
   "metadata": {},
   "source": [
    "-------------------------------------------------------------------------------------------------------------------------------"
   ]
  },
  {
   "cell_type": "code",
   "execution_count": 98,
   "id": "e64d3408",
   "metadata": {},
   "outputs": [],
   "source": [
    "# 14) write a python program to get the third side of right angled triangle from 2 given sides.\n",
    "\n",
    "def pythagoras(opp_side,adj_side,hypotenuse):\n",
    "    if opp_side==str('x'):\n",
    "        return ('Opposite= '+str(((hypotenuse**2)-(adj_side**2))**0.5))\n",
    "    elif adj_side==str('x'):\n",
    "        return ('Adjacent= '+str(((hypotenuse**2)-(opp_side**2))**0.5))\n",
    "    if hypotenuse==str('x'):\n",
    "        return ('Hypotenuse= '+str(((opp_side**2)+(adj_side**2))**0.5))\n",
    "    else:\n",
    "        return 'You know the answer!'"
   ]
  },
  {
   "cell_type": "code",
   "execution_count": 99,
   "id": "ed3b88e9",
   "metadata": {},
   "outputs": [
    {
     "data": {
      "text/plain": [
       "'Hypotenuse= 5.0'"
      ]
     },
     "execution_count": 99,
     "metadata": {},
     "output_type": "execute_result"
    }
   ],
   "source": [
    "pythagoras(3,4,'x')"
   ]
  },
  {
   "cell_type": "code",
   "execution_count": 100,
   "id": "a74aa5b0",
   "metadata": {},
   "outputs": [
    {
     "name": "stdout",
     "output_type": "stream",
     "text": [
      "Adjacent= 4.0\n"
     ]
    }
   ],
   "source": [
    "print(pythagoras(3,'x',5))"
   ]
  },
  {
   "cell_type": "code",
   "execution_count": 101,
   "id": "8908710b",
   "metadata": {},
   "outputs": [
    {
     "name": "stdout",
     "output_type": "stream",
     "text": [
      "Opposite= 3.0\n"
     ]
    }
   ],
   "source": [
    "print(pythagoras('x',4,5))"
   ]
  },
  {
   "cell_type": "code",
   "execution_count": 102,
   "id": "873204ac",
   "metadata": {},
   "outputs": [
    {
     "name": "stdout",
     "output_type": "stream",
     "text": [
      "You know the answer!\n"
     ]
    }
   ],
   "source": [
    "print(pythagoras(3,4,5))"
   ]
  },
  {
   "cell_type": "markdown",
   "id": "5535a3ce",
   "metadata": {},
   "source": [
    "-------------------------------------------------------------------------------------------------------------------------------"
   ]
  },
  {
   "cell_type": "code",
   "execution_count": 103,
   "id": "1a15489d",
   "metadata": {},
   "outputs": [],
   "source": [
    "# 15) write a python program to get the frequency of each character in given string\n",
    "\n",
    "def freq_string(s): \n",
    "    all_freq={}\n",
    "    for i in s:\n",
    "        if i in all_freq:\n",
    "            all_freq[i]+=1\n",
    "        else:\n",
    "            all_freq[i]=1\n",
    "    return all_freq"
   ]
  },
  {
   "cell_type": "code",
   "execution_count": 104,
   "id": "8badfdcb",
   "metadata": {},
   "outputs": [
    {
     "data": {
      "text/plain": [
       "{'M': 1, 'e': 2, 's': 3, 'a': 1, 'g': 1}"
      ]
     },
     "execution_count": 104,
     "metadata": {},
     "output_type": "execute_result"
    }
   ],
   "source": [
    "freq_string('Messages')"
   ]
  },
  {
   "cell_type": "markdown",
   "id": "9b96a0aa",
   "metadata": {},
   "source": [
    "### Worksheet_2"
   ]
  },
  {
   "cell_type": "code",
   "execution_count": 62,
   "id": "98aa1471",
   "metadata": {},
   "outputs": [
    {
     "name": "stdout",
     "output_type": "stream",
     "text": [
      "Enter the vaule of a, it should not equal zero\n",
      "4\n",
      "Enter the vaule of b\n",
      "4\n",
      "Enter the vaule of c\n",
      "1\n",
      "real and same roots\n",
      "-0.5\n"
     ]
    }
   ],
   "source": [
    "# 14) Solve the Quadratic quetion : ax^2+bx+c=0\n",
    "# will use the roots euqtion of quadrativ equ. \n",
    "\n",
    "\n",
    "        \n",
    "# function for findings the roots\n",
    "def equation_roots(a,b,c):\n",
    "    try:\n",
    "        \n",
    "        a=float(input('Enter the vaule of a, it should not equal zero\\n'))\n",
    "        b=float(input('Enter the vaule of b\\n'))\n",
    "        c=float(input('Enter the vaule of c\\n'))\n",
    "         # type of roots\n",
    "        r_type=(b**2) - (4*a*c)\n",
    "        sqrt_val= math.sqrt(abs(r_type))\n",
    "        \n",
    "        # checking the condition of the r_type\n",
    "        if r_type>0:\n",
    "        \n",
    "            print('real and different roots')\n",
    "            print((-b + sqrt_val)/ (2*a))\n",
    "            print((-b - sqrt_val)/ (2*a))\n",
    "        \n",
    "        elif r_type==0:\n",
    "            \n",
    "            print('real and same roots')\n",
    "            print(-b/(2*a))\n",
    "        \n",
    "        else:\n",
    "            print('complex roots')\n",
    "            print(-b/(2*a),'+i',sqrt_val)\n",
    "            print(-b/(2*a),'-i',sqrt_val)\n",
    "    except:\n",
    "        print('Input correct Quadratice equation coefficients')\n",
    "        \n",
    "equation_roots(a,b,c)"
   ]
  },
  {
   "cell_type": "code",
   "execution_count": 22,
   "id": "d97d8ace",
   "metadata": {},
   "outputs": [],
   "source": [
    "# 15) sum of the first n natural numbers\n",
    "\n",
    "def Sum():\n",
    "    n=int(input('Enter the number'))\n",
    "    add=0\n",
    "    x=1\n",
    "    while x<=n:\n",
    "        add+=x\n",
    "        x+=1\n",
    "    return add"
   ]
  },
  {
   "cell_type": "code",
   "execution_count": 23,
   "id": "61657dad",
   "metadata": {},
   "outputs": [
    {
     "name": "stdout",
     "output_type": "stream",
     "text": [
      "Enter the number5\n"
     ]
    },
    {
     "data": {
      "text/plain": [
       "15"
      ]
     },
     "execution_count": 23,
     "metadata": {},
     "output_type": "execute_result"
    }
   ],
   "source": [
    "Sum()"
   ]
  },
  {
   "cell_type": "markdown",
   "id": "ca652e96",
   "metadata": {},
   "source": [
    "### Worksheet_3"
   ]
  },
  {
   "cell_type": "code",
   "execution_count": 26,
   "id": "7409cd52",
   "metadata": {},
   "outputs": [],
   "source": [
    "# 11)\n",
    "def print_big():\n",
    "    num=int(input('Enter the level of pyramids\\n'))\n",
    "    dic={1:'    *    ',2:'  *   *   ',3:' *  *  * ',4:'*  *  *  *',5:'* *  *  * *'}\n",
    "    if num==5:\n",
    "        print(dic[1])\n",
    "        print(dic[2])\n",
    "        print(dic[3])\n",
    "        print(dic[4])\n",
    "        print(dic[5])\n",
    "    else:\n",
    "        print('Only for now pyramid with level 5 is available :)')"
   ]
  },
  {
   "cell_type": "code",
   "execution_count": 27,
   "id": "f5df565f",
   "metadata": {},
   "outputs": [
    {
     "name": "stdout",
     "output_type": "stream",
     "text": [
      "Enter the level of pyramids\n",
      "5\n",
      "    *    \n",
      "  *   *   \n",
      " *  *  * \n",
      "*  *  *  *\n",
      "* *  *  * *\n"
     ]
    }
   ],
   "source": [
    "print_big()"
   ]
  },
  {
   "cell_type": "code",
   "execution_count": 28,
   "id": "26c63379",
   "metadata": {},
   "outputs": [
    {
     "name": "stdout",
     "output_type": "stream",
     "text": [
      "Enter number of rows: 8\n",
      "***************\n",
      " *************\n",
      "  ***********\n",
      "   *********\n",
      "    *******\n",
      "     *****\n",
      "      ***\n",
      "       *\n",
      "      ***\n",
      "     *****\n",
      "    *******\n",
      "   *********\n",
      "  ***********\n",
      " *************\n",
      "***************\n"
     ]
    }
   ],
   "source": [
    "# 12)\n",
    "\n",
    "# Reading number of rows\n",
    "row=int(input('Enter number of rows: '))\n",
    "# Upper half\n",
    "for i in range(row,0,-1):\n",
    "    for j in range(row-i):\n",
    "        print(' ',end='')\n",
    "    for j in range(1,2*i):\n",
    "        print('*',end='')\n",
    "    print()\n",
    "    \n",
    "# lower half\n",
    "for i in range(2,row+1):\n",
    "    for j in range(row-i):\n",
    "        print(' ',end='')\n",
    "    for j in range(1,2*i):\n",
    "        print('*',end='')\n",
    "    print()\n",
    "        "
   ]
  },
  {
   "cell_type": "code",
   "execution_count": 34,
   "id": "9a80f941",
   "metadata": {},
   "outputs": [],
   "source": [
    "# 13) Could not answer by myself ; reference: Geeksforgeeks\n",
    "def pascal_tri(numRows):\n",
    "    for i in range(numRows):\n",
    "        \n",
    "        # loop to get leading spaces\n",
    "        for j in range(numRows-i+1):\n",
    "            print(end=\" \")\n",
    "    \n",
    "    # loop to get elements of row i\n",
    "        for j in range(i+1):\n",
    "            print(math.factorial(i)//(math.factorial(j)*math.factorial(i-j)), end=\" \") # nCr = n!/((n-r)!*r!)\n",
    "\n",
    "     # print each row in a new line\n",
    "    print(\"\\n\")"
   ]
  },
  {
   "cell_type": "code",
   "execution_count": 35,
   "id": "cc493b60",
   "metadata": {},
   "outputs": [
    {
     "name": "stdout",
     "output_type": "stream",
     "text": [
      "      1 \n",
      "\n",
      "     1 1 \n",
      "\n",
      "    1 2 1 \n",
      "\n",
      "   1 3 3 1 \n",
      "\n",
      "  1 4 6 4 1 \n",
      "\n"
     ]
    }
   ],
   "source": [
    "pascal_tri(5)"
   ]
  },
  {
   "cell_type": "code",
   "execution_count": 37,
   "id": "4ab3605c",
   "metadata": {},
   "outputs": [],
   "source": [
    "# 14) \n",
    "# Diamond shape\n",
    "def Diamond(rows):\n",
    "    n = 0\n",
    "    for i in range(1, rows + 1):\n",
    "        # loop to print spaces\n",
    "        for j in range (1, (rows - i) + 1):\n",
    "            print(end = \" \")\n",
    "         \n",
    "        # loop to print star\n",
    "        while n != (2 * i - 1):\n",
    "            print(\"*\", end = \"\")\n",
    "            n = n + 1\n",
    "        n = 0\n",
    "         \n",
    "        \n",
    "        print()\n",
    " \n",
    "    k = 1\n",
    "    n = 1\n",
    "    for i in range(1, rows):\n",
    "        # loop to print spaces\n",
    "        for j in range (1, k + 1):\n",
    "            print(end = \" \")\n",
    "        k = k + 1\n",
    "         \n",
    "        # loop to print star\n",
    "        while n <= (2 * (rows - i) - 1):\n",
    "            print(\"*\", end = \"\")\n",
    "            n = n + 1\n",
    "        n = 1\n",
    "        print()"
   ]
  },
  {
   "cell_type": "code",
   "execution_count": 38,
   "id": "53909c65",
   "metadata": {},
   "outputs": [
    {
     "name": "stdout",
     "output_type": "stream",
     "text": [
      "    *\n",
      "   ***\n",
      "  *****\n",
      " *******\n",
      "*********\n",
      " *******\n",
      "  *****\n",
      "   ***\n",
      "    *\n"
     ]
    }
   ],
   "source": [
    "Diamond(5)"
   ]
  }
 ],
 "metadata": {
  "kernelspec": {
   "display_name": "Python 3 (ipykernel)",
   "language": "python",
   "name": "python3"
  },
  "language_info": {
   "codemirror_mode": {
    "name": "ipython",
    "version": 3
   },
   "file_extension": ".py",
   "mimetype": "text/x-python",
   "name": "python",
   "nbconvert_exporter": "python",
   "pygments_lexer": "ipython3",
   "version": "3.9.12"
  }
 },
 "nbformat": 4,
 "nbformat_minor": 5
}
